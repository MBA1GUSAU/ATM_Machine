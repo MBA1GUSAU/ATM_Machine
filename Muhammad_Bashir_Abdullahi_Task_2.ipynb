{
 "cells": [
  {
   "cell_type": "markdown",
   "id": "ae6002ce-d827-452b-9e23-95296cddbff3",
   "metadata": {},
   "source": [
    "## 1.\tSTUDENT GRADE EVALUATOR"
   ]
  },
  {
   "cell_type": "code",
   "execution_count": 9,
   "id": "7f653273-82e6-4212-ba2d-87ae0cb6b90c",
   "metadata": {},
   "outputs": [],
   "source": [
    "# a.\tCreate a list of student scores (e.g., [85, 72, 90, 55, 40]).\n",
    "student_scores = [85,72,90,55,40]"
   ]
  },
  {
   "cell_type": "code",
   "execution_count": 10,
   "id": "7f4f6d23-3f95-4abd-8ff0-c556ac88b706",
   "metadata": {},
   "outputs": [],
   "source": [
    "# b.\t Write a function grade_student(score) that:\n",
    "def grade_student(score):\n",
    "    if score >= 80:\n",
    "        return (\"A\")\n",
    "    elif 70 <= score <= 79:\n",
    "        return (\"B\")\n",
    "    elif 60 <= score <= 69:\n",
    "        return (\"C\")\n",
    "    elif 50 <= score <= 59:\n",
    "        return (\"D\")\n",
    "    else:\n",
    "        return (\"F\")"
   ]
  },
  {
   "cell_type": "code",
   "execution_count": 11,
   "id": "12f579bb-1f67-4dce-9c41-51d8b94944dd",
   "metadata": {},
   "outputs": [
    {
     "name": "stdout",
     "output_type": "stream",
     "text": [
      "Student 1: Score = 85, Grade = A\n",
      "Student 2: Score = 72, Grade = B\n",
      "Student 3: Score = 90, Grade = A\n",
      "Student 4: Score = 55, Grade = D\n",
      "Student 5: Score = 40, Grade = F\n"
     ]
    }
   ],
   "source": [
    "# c.\tUse a loop to go through all student scores and call the function for each one.\n",
    "for index,score in enumerate(student_scores):\n",
    "    grade=grade_student(score)\n",
    "\n",
    "# d.\tPrint results in this format: \"Student 1: Score = 85, Grade = A\"\n",
    "    print(f\"Student {index+1}: Score = {score}, Grade = {grade}\")"
   ]
  },
  {
   "cell_type": "markdown",
   "id": "0307d394-7556-4a49-b693-9f468541e97a",
   "metadata": {},
   "source": [
    "## 2.\tATM SIMULATOR"
   ]
  },
  {
   "cell_type": "code",
   "execution_count": 12,
   "id": "4d90ba72-d234-4793-872f-28ff2877eaf7",
   "metadata": {},
   "outputs": [],
   "source": [
    "def atm_machine():\n",
    "    balance = 1000 #Starting balance\n",
    "    while True: # keep running until Exit\n",
    "        \n",
    "        # Select option\n",
    "        print (\"====ATM MENU====.\\n CHOOSE ONE OPTION TO CONTINUE\")\n",
    "        print(\"1. Check Balance\")\n",
    "        print(\"2. Deposit Money\")\n",
    "        print(\"3. Withdraw Money\")\n",
    "        print(\"4. Exit\")\n",
    "        \n",
    "        # Get user choice\n",
    "        try:\n",
    "            choice = int(input(\"Enter your choice (1-4):\"))\n",
    "        except ValueError:\n",
    "            print(\"Invalid input. Please enter a number\")\n",
    "            continue\n",
    "            \n",
    "         # Check Balance \n",
    "        if choice == 1:\n",
    "            print(f\"your current balance is : ₦{balance:.2f}\") \n",
    "            \n",
    "         # Deposit  \n",
    "        elif choice == 2:\n",
    "            amount = int(input(\"Enter amount to deposit\"))\n",
    "            if amount > 0:\n",
    "                balance += amount\n",
    "                print(f\"Deposit successful. New balance is: ₦{balance:.2f}\")\n",
    "            else:\n",
    "                print(\"Invalid deposit amount\")\n",
    "                \n",
    "          # Withdraw      \n",
    "        elif choice == 3:\n",
    "            amount = int(input(\"Enter amount to withdraw: \"))\n",
    "            if amount > balance:\n",
    "                print(\"Insufficient funds. Transaction cancelled.\")\n",
    "            elif amount <= 0:\n",
    "                print(\"Invalid withdrawal amount\")\n",
    "            else:\n",
    "                balance -= amount\n",
    "                print(f\"Withdrawal successful. New balance is : ₦{balance:.2f}\")\n",
    "\n",
    "        # Exit\n",
    "        elif choice == 4:\n",
    "            print(\"Thank you for using our ATM. Good Bye\")\n",
    "            break\n",
    "\n",
    "         #Invalid option\n",
    "        else:\n",
    "            print(\"Invalid choice. Please try again.\")\n",
    "            "
   ]
  },
  {
   "cell_type": "code",
   "execution_count": 13,
   "id": "e47a0635-8059-44de-938a-f8ba282fffe6",
   "metadata": {},
   "outputs": [
    {
     "name": "stdout",
     "output_type": "stream",
     "text": [
      "====ATM MENU====.\n",
      " CHOOSE ONE OPTION TO CONTINUE\n",
      "1. Check Balance\n",
      "2. Deposit Money\n",
      "3. Withdraw Money\n",
      "4. Exit\n"
     ]
    },
    {
     "name": "stdin",
     "output_type": "stream",
     "text": [
      "Enter your choice (1-4): 1\n"
     ]
    },
    {
     "name": "stdout",
     "output_type": "stream",
     "text": [
      "your current balance is : ₦1000.00\n",
      "====ATM MENU====.\n",
      " CHOOSE ONE OPTION TO CONTINUE\n",
      "1. Check Balance\n",
      "2. Deposit Money\n",
      "3. Withdraw Money\n",
      "4. Exit\n"
     ]
    },
    {
     "name": "stdin",
     "output_type": "stream",
     "text": [
      "Enter your choice (1-4): 2\n",
      "Enter amount to deposit 3000\n"
     ]
    },
    {
     "name": "stdout",
     "output_type": "stream",
     "text": [
      "Deposit successful. New balance is: ₦4000.00\n",
      "====ATM MENU====.\n",
      " CHOOSE ONE OPTION TO CONTINUE\n",
      "1. Check Balance\n",
      "2. Deposit Money\n",
      "3. Withdraw Money\n",
      "4. Exit\n"
     ]
    },
    {
     "name": "stdin",
     "output_type": "stream",
     "text": [
      "Enter your choice (1-4): 3\n",
      "Enter amount to withdraw:  3500\n"
     ]
    },
    {
     "name": "stdout",
     "output_type": "stream",
     "text": [
      "Withdrawal successful. New balance is : ₦500.00\n",
      "====ATM MENU====.\n",
      " CHOOSE ONE OPTION TO CONTINUE\n",
      "1. Check Balance\n",
      "2. Deposit Money\n",
      "3. Withdraw Money\n",
      "4. Exit\n"
     ]
    },
    {
     "name": "stdin",
     "output_type": "stream",
     "text": [
      "Enter your choice (1-4): 4\n"
     ]
    },
    {
     "name": "stdout",
     "output_type": "stream",
     "text": [
      "Thank you for using our ATM. Good Bye\n"
     ]
    }
   ],
   "source": [
    "atm_machine()"
   ]
  },
  {
   "cell_type": "code",
   "execution_count": null,
   "id": "8c9ae2b2-ab71-4167-9e68-740c9a9df73f",
   "metadata": {},
   "outputs": [],
   "source": []
  }
 ],
 "metadata": {
  "kernelspec": {
   "display_name": "Python 3 (ipykernel)",
   "language": "python",
   "name": "python3"
  },
  "language_info": {
   "codemirror_mode": {
    "name": "ipython",
    "version": 3
   },
   "file_extension": ".py",
   "mimetype": "text/x-python",
   "name": "python",
   "nbconvert_exporter": "python",
   "pygments_lexer": "ipython3",
   "version": "3.11.7"
  },
  "widgets": {
   "application/vnd.jupyter.widget-state+json": {
    "state": {},
    "version_major": 2,
    "version_minor": 0
   }
  }
 },
 "nbformat": 4,
 "nbformat_minor": 5
}
